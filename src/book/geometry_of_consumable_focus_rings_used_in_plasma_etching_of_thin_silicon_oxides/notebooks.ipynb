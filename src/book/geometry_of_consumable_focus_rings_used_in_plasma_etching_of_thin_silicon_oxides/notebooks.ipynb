{
 "cells": [
  {
   "cell_type": "markdown",
   "metadata": {},
   "source": [
    "## Let's observe the factory"
   ]
  },
  {
   "cell_type": "code",
   "execution_count": 85,
   "metadata": {
    "tags": [
     "hide-input"
    ]
   },
   "outputs": [],
   "source": [
    "import numpy as np\n",
    "import pandas as pd\n",
    "import seaborn as sns\n",
    "df = pd.DataFrame({\n",
    "    \"run-order\":pd.Series(np.arange(20)),\n",
    "    \"ring-angle\":pd.Series([\"45deg\",\"45deg\",\"45deg\",\"45deg\",\"45deg\",\"45deg\",\"45deg\",\"45deg\",\"45deg\",\"45deg\",\"55deg\",\"55deg\",\"55deg\",\"55deg\",\"55deg\",\"55deg\",\"55deg\",\"55deg\",\"55deg\",\"55deg\"]),\n",
    "    \"yield\":pd.Series([89.7,81.4,84.5,84.8,87.3,79.7,85.1,81.7,83.7,84.5,84.7,86.1,83.2,91.9,86.3,79.3,82.6,89.1,83.7,88.5]),                           \n",
    "    })"
   ]
  },
  {
   "cell_type": "code",
   "execution_count": 86,
   "metadata": {
    "tags": [
     "hide-input"
    ]
   },
   "outputs": [
    {
     "data": {
      "text/plain": [
       "<AxesSubplot:xlabel='run-order', ylabel='yield'>"
      ]
     },
     "execution_count": 86,
     "metadata": {},
     "output_type": "execute_result"
    },
    {
     "data": {
      "image/png": "[encoded data removed]",
      "text/plain": [
       "<Figure size 432x288 with 1 Axes>"
      ]
     },
     "metadata": {
      "needs_background": "light"
     },
     "output_type": "display_data"
    }
   ],
   "source": [
    "sns.scatterplot(data=df, x=\"run-order\", y=\"yield\", hue=df[\"ring-angle\"].to_list())"
   ]
  },
  {
   "cell_type": "code",
   "execution_count": 87,
   "metadata": {},
   "outputs": [
    {
     "data": {
      "text/plain": [
       "<AxesSubplot:xlabel='ring-angle', ylabel='yield'>"
      ]
     },
     "execution_count": 87,
     "metadata": {},
     "output_type": "execute_result"
    },
    {
     "data": {
      "image/png": "[encoded data removed]",
      "text/plain": [
       "<Figure size 432x288 with 1 Axes>"
      ]
     },
     "metadata": {
      "needs_background": "light"
     },
     "output_type": "display_data"
    }
   ],
   "source": [
    "sns.boxplot(data=df, x=\"ring-angle\", y=\"yield\", hue=\"ring-angle\",)#notch=True)"
   ]
  },
  {
   "cell_type": "markdown",
   "metadata": {},
   "source": [
    "### Consider the Distribution of differences\n",
    "![ Distribution ](images/distribution-of-differences.png)"
   ]
  },
  {
   "cell_type": "markdown",
   "metadata": {},
   "source": [
    "### Beware Simpson's paradox \n",
    "![ paradox ](images/simpsons-paradox.png)"
   ]
  },
  {
   "cell_type": "markdown",
   "metadata": {},
   "source": [
    "## Let's Design an experiment"
   ]
  },
  {
   "cell_type": "code",
   "execution_count": 133,
   "metadata": {
    "tags": [
     "hide-input"
    ]
   },
   "outputs": [],
   "source": [
    "df = pd.DataFrame({\n",
    "    \"time\":pd.Series([\n",
    "        10,10,10,10,\n",
    "        10,10,10,10,\n",
    "        30,30,30,30,\n",
    "        30,30,30,30\n",
    "    ]),\n",
    "    \"temperature\":pd.Series([\n",
    "        50,50,50,50,\n",
    "        70,70,70,70,\n",
    "        50,50,50,50,\n",
    "        70,70,70,70]),\n",
    "    \"pressure\":pd.Series([\n",
    "        200,200,300,300,\n",
    "        200,200,300,300,\n",
    "        200,200,300,300,\n",
    "        200,200,300,300]),    \n",
    "    })"
   ]
  },
  {
   "cell_type": "markdown",
   "metadata": {},
   "source": [
    "![ DOE ](images/3d-DOE.png)"
   ]
  },
  {
   "cell_type": "code",
   "execution_count": null,
   "metadata": {},
   "outputs": [],
   "source": []
  },
  {
   "cell_type": "code",
   "execution_count": null,
   "metadata": {},
   "outputs": [],
   "source": []
  }
 ],
 "metadata": {
  "kernelspec": {
   "display_name": "Python 3",
   "language": "python",
   "name": "python3"
  },
  "language_info": {
   "codemirror_mode": {
    "name": "ipython",
    "version": 3
   },
   "file_extension": ".py",
   "mimetype": "text/x-python",
   "name": "python",
   "nbconvert_exporter": "python",
   "pygments_lexer": "ipython3",
   "version": "3.8.0"
  },
  "widgets": {
   "application/vnd.jupyter.widget-state+json": {
    "state": {},
    "version_major": 2,
    "version_minor": 0
   }
  }
 },
 "nbformat": 4,
 "nbformat_minor": 4
}
